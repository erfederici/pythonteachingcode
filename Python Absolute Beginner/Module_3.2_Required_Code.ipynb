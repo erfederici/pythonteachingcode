{
 "cells": [
  {
   "attachments": {},
   "cell_type": "markdown",
   "metadata": {
    "collapsed": true,
    "jupyter": {
     "outputs_hidden": true
    }
   },
   "source": [
    "#  Module 3 Required Coding Activity  \n",
    "Introduction to Python Unit 1 \n",
    "\n",
    "This is an activity based on code similar to the Jupyter Notebook **`Practice_MOD03_1-4_IntroPy.ipynb`** and **`Practice_MOD03_1-5_IntroPy.ipynb`** which you may have completed as practice.\n",
    "\n",
    ">This program requires the use of **`if, elif, else`**, and casting between strings and numbers. The program should use the various code syntax covered in module 3.  \n",
    "> \n",
    ">The program must result in print output using numeric input similar to that shown in the sample below.\n",
    ">You must include your full name in the input prompt. See sample input below for more detail.\n",
    "\n",
    "## Program: Cheese Order Function   \n",
    "- define function with max, min, price, and order_amount parameters\n",
    "- set default values for maximum and minimum order parameters  \n",
    "- set default value for price parameter\n",
    "- cast order_amount and other arguments to numbers  \n",
    "- check order_amount and give message checking against  \n",
    "  - over maximum\n",
    "  - under minimum\n",
    "- else within maximum and minimum give message with calculated price \n",
    "- call your function using order weight input from user\n",
    "\n",
    "\n",
    "Sample input and output:\n",
    "```\n",
    "[YOUR FULL NAME GOES HERE], enter cheese order weight (numeric value): 113\n",
    "113.0 is more than currently available stock\n",
    "```\n",
    "\n",
    "```\n",
    "[YOUR FULL NAME GOES HERE], enter cheese order weight (numeric value): .15\n",
    "0.15 is below minimum order amount\n",
    "```  \n",
    "\n",
    "```\n",
    "[YOUR FULL NAME GOES HERE], enter cheese order weight (numeric value): 2\n",
    "2.0 costs $15.98\n",
    "```  "
   ]
  },
  {
   "cell_type": "code",
   "execution_count": 69,
   "metadata": {},
   "outputs": [
    {
     "name": "stdin",
     "output_type": "stream",
     "text": [
      "Please enter your full name: Elisabeth Federici\n",
      "Elisabeth Federici, please enter cheese order weight (numeric value):  8\n"
     ]
    },
    {
     "name": "stdout",
     "output_type": "stream",
     "text": [
      "8.0kg costs $47.92\n"
     ]
    }
   ],
   "source": [
    "# [ ] create fucntion, call and test \n",
    "\n",
    "name = input('Please enter your full name:')\n",
    "\n",
    "def cheese_order(order_amount, max_weight=10, min_weight=1, price=5.99):\n",
    "    max_weight = float(max_weight)\n",
    "    min_weight = float(min_weight)\n",
    "    price = float(price)\n",
    "    order_amount = float(order_amount)\n",
    "\n",
    "    if order_amount > max_weight:\n",
    "        print('Sorry,',order_amount,'is more than currently available in stock.')\n",
    "\n",
    "    elif order_amount < min_weight:\n",
    "        print('Sorry,',order_amount,'is below the minimum order amount.')\n",
    "\n",
    "    else:\n",
    "        total_price = order_amount * price\n",
    "        print(str(order_amount)+'kg costs $'+str(total_price))\n",
    "        \n",
    "prompt = name + ', please enter cheese order weight (numeric value): '\n",
    "order_weight = input(prompt)\n",
    "\n",
    "cheese_order(order_weight)\n"
   ]
  },
  {
   "cell_type": "markdown",
   "metadata": {},
   "source": [
    "Submit this by creating a python file (.py) and submitting it in D2L. Be sure to test that it works."
   ]
  }
 ],
 "metadata": {
  "kernelspec": {
   "display_name": "Python [conda env:base] *",
   "language": "python",
   "name": "conda-base-py"
  },
  "language_info": {
   "codemirror_mode": {
    "name": "ipython",
    "version": 3
   },
   "file_extension": ".py",
   "mimetype": "text/x-python",
   "name": "python",
   "nbconvert_exporter": "python",
   "pygments_lexer": "ipython3",
   "version": "3.12.7"
  }
 },
 "nbformat": 4,
 "nbformat_minor": 4
}
