{
 "cells": [
  {
   "cell_type": "markdown",
   "metadata": {},
   "source": [
    "# Module 3 Practice 1\n",
    "## Conditionals \n",
    "<font size=\"5\" color=\"#00A0B2\"  face=\"verdana\"> <B>Student will be able to</B></font>  \n",
    "- **control code flow with `if`... `else` conditional logic**  \n",
    "  - using Boolean string methods (`.isupper(), .isalpha(), .startswith()...`)  \n",
    "  - using comparision (`>, <, >=, <=, ==, !=`)  \n",
    "  - using Strings in comparisons  \n",
    "\n",
    "## `if else`\n"
   ]
  },
  {
   "cell_type": "code",
   "execution_count": 1,
   "metadata": {},
   "outputs": [
    {
     "name": "stdin",
     "output_type": "stream",
     "text": [
      "Input your age (use only whole numbers):  28\n"
     ]
    },
    {
     "name": "stdout",
     "output_type": "stream",
     "text": [
      "Age's first type is:  <class 'int'>\n",
      "Age's second type is:  <class 'int'>\n",
      "In ten years you will be 38.\n"
     ]
    }
   ],
   "source": [
    "# [ ] input a variable: age as digit and cast to int\n",
    "# if age greater than or equal to 12 then print message on age in 10 years \n",
    "# or else print message \"It is good to be\" age\n",
    "age = int(input(\"Input your age (use only whole numbers): \"))\n",
    "print(\"Age's first type is: \",type(age))\n",
    "\n",
    "age = int(age)\n",
    "print(\"Age's second type is: \",type(age))\n",
    "\n",
    "if age >= 12:\n",
    "    print(\"In ten years you will be \"+str(age+10)+\".\")\n",
    "    \n",
    "else:\n",
    "    print(\"It is good to be \"+str(age)+\".\")\n",
    "\n",
    "\n",
    "\n"
   ]
  },
  {
   "cell_type": "code",
   "execution_count": 37,
   "metadata": {},
   "outputs": [
    {
     "name": "stdin",
     "output_type": "stream",
     "text": [
      "enter your favorite whole number: ok\n"
     ]
    },
    {
     "name": "stdout",
     "output_type": "stream",
     "text": [
      "only int is accepted\n"
     ]
    }
   ],
   "source": [
    "# [ ] input a number \n",
    "# if number IS a digit string then cast to int\n",
    "# print number \"greater than 100 is\" True/False\n",
    "# if number is NOT a digit string then message the user that \"only int is accepted\"\n",
    "\n",
    "fav_num = input('enter your favorite whole number:') #user input\n",
    "\n",
    "if fav_num.isdigit():\n",
    "    fav_num = int(fav_num) #cast int\n",
    "    print(fav_num,'is greater than 100:',(fav_num > 100))\n",
    "else:\n",
    "    print('only int is accepted')\n",
    "\n",
    "\n"
   ]
  },
  {
   "cell_type": "markdown",
   "metadata": {},
   "source": [
    "### Guessing a letter A-Z  \n",
    "**check_guess()** takes 2 string arguments: **letter and guess** (both expect single alphabetical character)   \n",
    "    - if guess is not an alpha character print invalid and return False\n",
    "    - test and print if guess is \"high\" or \"low\" and return False\n",
    "    - test and print if guess is \"correct\" and return True"
   ]
  },
  {
   "cell_type": "code",
   "execution_count": 144,
   "metadata": {},
   "outputs": [
    {
     "name": "stdin",
     "output_type": "stream",
     "text": [
      "Can you guess the chosen letter? Enter a letter A - Z: I\n"
     ]
    },
    {
     "name": "stdout",
     "output_type": "stream",
     "text": [
      "guess is too low\n",
      "False\n"
     ]
    }
   ],
   "source": [
    "# [ ] create check_guess()\n",
    "# call with test\n",
    "# \"len\" lets you know the length of your guess. ex: if guess len(guess)==1\n",
    "\n",
    "letter = 'E'\n",
    "guess = input('Can you guess the chosen letter? Enter a letter A - Z:')\n",
    "\n",
    "def check_test(letter,guess):\n",
    "    if guess.isalpha():\n",
    "        if len(guess)==1:\n",
    "            if guess == letter:\n",
    "                print('guess is correct')\n",
    "                return True\n",
    "            elif guess > letter:\n",
    "                print('guess is too low')\n",
    "                return False\n",
    "            elif guess < letter:\n",
    "                print('guess is too high')\n",
    "                return False\n",
    "        else:\n",
    "            print(\"invalid - more than one character\")\n",
    "            return ('Error')\n",
    "    else:\n",
    "        print(\"invalid - not alphabetical\")\n",
    "        return ('Error')\n",
    "        \n",
    "# [ ] call check_guess with user input\n",
    "print(check_test(letter,guess))"
   ]
  },
  {
   "cell_type": "markdown",
   "metadata": {},
   "source": [
    "### Letter Guess\n",
    "**create letter_guess() function that gives user 3 guesses**\n",
    "- takes a letter character argument for the answer letter\n",
    "- gets user input for letter guess  \n",
    "- calls check_guess() with answer and guess\n",
    "- End letter_guess if \n",
    "    - check_guess() equals True, return True  \n",
    "    - or after 3 failed attempts, return False"
   ]
  },
  {
   "cell_type": "code",
   "execution_count": 211,
   "metadata": {},
   "outputs": [
    {
     "name": "stdin",
     "output_type": "stream",
     "text": [
      "Guess a letter A-Z: E\n"
     ]
    },
    {
     "name": "stdout",
     "output_type": "stream",
     "text": [
      "guess is correct\n",
      "first try, great job!\n",
      "None\n"
     ]
    }
   ],
   "source": [
    "# [ ] create letter_guess() function, call the function to test\n",
    "#no parameter needed\n",
    "#do this with if and else conditions\n",
    "\n",
    "def letter_guess(answer):\n",
    "    check_answer = answer\n",
    "    check_answer = input('Guess a letter A-Z:')\n",
    "    if True == check_test(check_answer,answer):\n",
    "        print('first try, great job!')\n",
    "    else:\n",
    "        check_answer = input('Guess a letter A-Z:')\n",
    "        if True == check_test(check_answer,answer):\n",
    "            print('on the second try, nice work!')\n",
    "        else:\n",
    "            check_answer = input('Guess a letter A-Z:')\n",
    "            if True == check_test(check_answer,answer):\n",
    "                print('on the third try...really?')\n",
    "            else:\n",
    "                return 'you lose'\n",
    "\n",
    "print(letter_guess(answer))"
   ]
  },
  {
   "cell_type": "markdown",
   "metadata": {},
   "source": [
    "### Pet Conversation\n",
    "**ask the user for a sentence about a pet and then reply**  \n",
    "- get user input in variable: about_pet\n",
    "- using a series of **if** statements respond with appropriate conversation\n",
    "  - check if \"dog\" is in the string about_pet (sample reply \"Ah, a dog\")\n",
    "  - check if \"cat\" is in the string about_pet\n",
    "  - check if 1 or more animal is in string about_pet\n",
    "- no need for **else**'s\n",
    "- finish with thanking for the story"
   ]
  },
  {
   "cell_type": "code",
   "execution_count": 11,
   "metadata": {},
   "outputs": [
    {
     "name": "stdin",
     "output_type": "stream",
     "text": [
      "Tell me about your pet (specify what kind of pet you have): I have a cat and he likes to sleep!\n"
     ]
    },
    {
     "name": "stdout",
     "output_type": "stream",
     "text": [
      "Ah, a cat\n",
      "Thank you for sharing a story about your pet!\n"
     ]
    }
   ],
   "source": [
    "# [ ] complete pet conversation\n",
    "\n",
    "about_pet = input('Tell me about your pet (specify what kind of pet you have):')\n",
    "if 'dog' in about_pet:\n",
    "    print('Ah, a dog')\n",
    "if 'cat' in about_pet:\n",
    "    print('Ah, a cat')\n",
    "if 'bunny' in about_pet:\n",
    "    print('Ah, a bunny')\n",
    "\n",
    "print('Thank you for sharing a story about your pet!')\n",
    "\n"
   ]
  },
  {
   "cell_type": "markdown",
   "metadata": {},
   "source": [
    "# Module 3 Practice 2\n",
    "## conditionals, type, and mathematics extended   \n",
    "&nbsp;\n",
    "<font size=\"5\" color=\"#00A0B2\"  face=\"verdana\"> <B>Student will be able to</B></font>  \n",
    "- code more than two choices using **`elif`** \n",
    "- gather numeric input using type casting  \n",
    "- perform subtraction, multiplication and division operations in code  &nbsp;  \n"
   ]
  },
  {
   "cell_type": "markdown",
   "metadata": {},
   "source": [
    "# &nbsp;  \n",
    "<font size=\"6\" color=\"#B24C00\"  face=\"verdana\"> <B>Tasks</B></font>"
   ]
  },
  {
   "cell_type": "markdown",
   "metadata": {},
   "source": [
    "### Rainbow colors\n",
    "ask for input of a favorite rainbow color first letter: ROYGBIV  \n",
    "\n",
    "Using `if`, `elif`, and `else`:  \n",
    "- print the color matching the letter  \n",
    "    - R = Red  \n",
    "    - O = Orange  \n",
    "    - Y = Yellow  \n",
    "    - G = Green\n",
    "    - B = Blue\n",
    "    - I = Indigo\n",
    "    - V = Violet\n",
    "    - else print \"no match\"\n"
   ]
  },
  {
   "cell_type": "code",
   "execution_count": 37,
   "metadata": {},
   "outputs": [
    {
     "name": "stdin",
     "output_type": "stream",
     "text": [
      "what is the first letter of your favorite rainbown color (use ROYGBIV): T\n"
     ]
    },
    {
     "name": "stdout",
     "output_type": "stream",
     "text": [
      "no match\n"
     ]
    }
   ],
   "source": [
    "# [ ] complete rainbow colors\n",
    "\n",
    "rainbow_color = input('what is the first letter of your favorite rainbown color (use ROYGBIV):')\n",
    "\n",
    "if 'R' in rainbow_color.upper():\n",
    "    print('Red')\n",
    "elif 'O' in rainbow_color.upper():\n",
    "    print('Orange')\n",
    "elif 'Y' in rainbow_color.upper():\n",
    "    print('Yellow')\n",
    "elif 'G' in rainbow_color.upper():\n",
    "    print('Green')\n",
    "elif 'B' in rainbow_color.upper():\n",
    "    print('Blue')\n",
    "elif 'I' in rainbow_color.upper():\n",
    "    print('Indigo')\n",
    "elif 'V' in rainbow_color.upper():\n",
    "    print('Violet')\n",
    "else:\n",
    "    print('no match')\n",
    "\n",
    "\n"
   ]
  },
  {
   "cell_type": "code",
   "execution_count": 53,
   "metadata": {},
   "outputs": [
    {
     "name": "stdin",
     "output_type": "stream",
     "text": [
      "what is the first letter of your favorite rainbown color (use ROYGBIV): O\n"
     ]
    },
    {
     "name": "stdout",
     "output_type": "stream",
     "text": [
      "Orange\n"
     ]
    }
   ],
   "source": [
    "# [ ] make the code above into a function rainbow_color() that has a string parameter, \n",
    "# get input and call the function and return the matching color as a string or \"no match\" message.\n",
    "# Call the function and print the return string.\n",
    "\n",
    "favorite = input('what is the first letter of your favorite rainbown color (use ROYGBIV):')\n",
    "\n",
    "def rainbow_color(favorite):\n",
    "    favorite = favorite.upper()\n",
    "    if favorite == 'R':\n",
    "        print('Red')\n",
    "    elif favorite == 'O':\n",
    "        print('Orange')\n",
    "    elif favorite == 'Y':\n",
    "        print('Yellow')\n",
    "    elif favorite == 'G':\n",
    "        print('Green')\n",
    "    elif favorite == 'B':\n",
    "        print('Blue')\n",
    "    elif favorite == 'I':\n",
    "        print('Indigo')\n",
    "    elif favorite == 'V':\n",
    "        print('Violet')\n",
    "    else:\n",
    "        print('no match')\n",
    "        \n",
    "rainbow_color(favorite)"
   ]
  },
  {
   "cell_type": "markdown",
   "metadata": {},
   "source": [
    "# &nbsp;  \n",
    "**Create function age_20() that adds or subtracts 20 from your age for a return value based on current age** (use `if`) \n",
    "- call the funtion with user input and then use the return value in a sentence  \n",
    "example `age_20(25)` returns **5**: \n",
    "> \"5 years old, 20 years difference from now\""
   ]
  },
  {
   "cell_type": "code",
   "execution_count": 258,
   "metadata": {},
   "outputs": [
    {
     "name": "stdout",
     "output_type": "stream",
     "text": [
      "10 years old, 20 years difference now.\n"
     ]
    }
   ],
   "source": [
    "# [ ] complete age_20()\n",
    "\n",
    "def age_20(age):\n",
    "    if age >= 20:\n",
    "        return age - 20\n",
    "    else:\n",
    "        return age + 20\n",
    "\n",
    "print(age_20(30),'years old, 20 years difference now.')\n",
    "\n"
   ]
  },
  {
   "cell_type": "markdown",
   "metadata": {},
   "source": [
    "**create a function rainbow_or_age that takes a string argument**\n",
    "- if argument is a digit return the value of calling age_20() with the str value cast as **`int`** \n",
    "- if argument is an alphabetical character return the value of calling rainbow_color() with the str\n",
    "- if neither return FALSE"
   ]
  },
  {
   "cell_type": "code",
   "execution_count": 280,
   "metadata": {},
   "outputs": [
    {
     "data": {
      "text/plain": [
       "False"
      ]
     },
     "execution_count": 280,
     "metadata": {},
     "output_type": "execute_result"
    }
   ],
   "source": [
    "# [ ]  create rainbow_or_age()\n",
    "\n",
    "def rainbow_or_age(value):\n",
    "    if value.isdigit():\n",
    "        return age_20(int(value))\n",
    "    elif value.isalpha():\n",
    "        return rainbow_color(str(value))\n",
    "    else:\n",
    "        return False\n",
    "\n",
    "rainbow_or_age('15')\n"
   ]
  },
  {
   "cell_type": "code",
   "execution_count": 310,
   "metadata": {},
   "outputs": [
    {
     "name": "stdin",
     "output_type": "stream",
     "text": [
      "please enter your age: 28\n",
      "please enter your favorite number: 10\n"
     ]
    },
    {
     "name": "stdout",
     "output_type": "stream",
     "text": [
      "38\n"
     ]
    }
   ],
   "source": [
    "# [ ]  add 2 numbers from input using a cast to integer and display the answer \n",
    "\n",
    "age = input('please enter your age:')\n",
    "fav_num = input('please enter your favorite number:')\n",
    "\n",
    "total = int(age) + int(fav_num)\n",
    "\n",
    "print(total)"
   ]
  },
  {
   "cell_type": "code",
   "execution_count": 286,
   "metadata": {},
   "outputs": [
    {
     "name": "stdin",
     "output_type": "stream",
     "text": [
      "enter an even number: 2\n",
      "enter an odd number: 5\n"
     ]
    },
    {
     "name": "stdout",
     "output_type": "stream",
     "text": [
      "the answer is 10\n"
     ]
    }
   ],
   "source": [
    "# [ ] Multiply 2 numbers from input using cast and save the answer as part of a string \"the answer is...\"\n",
    "# display the string using print\n",
    "\n",
    "even_num = input('enter an even number:')\n",
    "odd_num = input('enter an odd number:')\n",
    "\n",
    "multiply_num = int(even_num) * int(odd_num)\n",
    "\n",
    "print('the answer is',multiply_num)\n"
   ]
  },
  {
   "cell_type": "code",
   "execution_count": 304,
   "metadata": {},
   "outputs": [
    {
     "name": "stdin",
     "output_type": "stream",
     "text": [
      "please enter a number 1-10: 8\n",
      "please enter another number 1-10: 4\n"
     ]
    },
    {
     "name": "stdout",
     "output_type": "stream",
     "text": [
      "6.0\n"
     ]
    }
   ],
   "source": [
    "# [ ] get input of 2 numbers and display the average: (num1 + num2) divided by 2\n",
    "\n",
    "num1 = int(input('please enter a number 1-10:'))\n",
    "num2 = int(input('please enter another number 1-10:'))\n",
    "\n",
    "average_num = (num1 + num2)/2\n",
    "\n",
    "print(average_num)\n"
   ]
  },
  {
   "cell_type": "code",
   "execution_count": 314,
   "metadata": {},
   "outputs": [
    {
     "name": "stdin",
     "output_type": "stream",
     "text": [
      "please enter a number 1-10: 3\n",
      "please enter a number 1-10: 9\n"
     ]
    },
    {
     "name": "stdout",
     "output_type": "stream",
     "text": [
      "6\n"
     ]
    }
   ],
   "source": [
    "# [ ] get input of 2 numbers and subtract the largest from the smallest (use an if statement to see which is larger)\n",
    "# show the answer\n",
    "\n",
    "entry_1 = int(input('please enter a number 1-10:'))\n",
    "entry_2 = int(input('please enter a number 1-10:'))\n",
    "\n",
    "if entry_1 > entry_2:\n",
    "    print(entry_1 - entry_2)\n",
    "else:\n",
    "    print(entry_2 - entry_1)"
   ]
  },
  {
   "cell_type": "code",
   "execution_count": 350,
   "metadata": {},
   "outputs": [
    {
     "name": "stdin",
     "output_type": "stream",
     "text": [
      "enter a number: 20\n",
      "enter another number: 5\n"
     ]
    },
    {
     "name": "stdout",
     "output_type": "stream",
     "text": [
      "4\n"
     ]
    }
   ],
   "source": [
    "# [ ] Divide a larger number by a smaller number and print the integer part of the result\n",
    "# don't divide by zero! if a zero is input make the result zero\n",
    "# [ ] cast the answer to an integer to cut off the decimals and print the result\n",
    "\n",
    "num_1 = int(input('enter a number:'))\n",
    "num_2 = int(input('enter another number:'))\n",
    "\n",
    "if num_1 == '0' and num_2 == '0':\n",
    "    print('0')\n",
    "elif num_1 > num_2:\n",
    "    result = int(num_1 / num_2)\n",
    "else:\n",
    "   result = int(num_2 / num_1)\n",
    "    \n",
    "print(result)"
   ]
  },
  {
   "cell_type": "markdown",
   "metadata": {
    "collapsed": true,
    "jupyter": {
     "outputs_hidden": true
    }
   },
   "source": [
    "[Terms of use](http://go.microsoft.com/fwlink/?LinkID=206977) &nbsp; [Privacy & cookies](https://go.microsoft.com/fwlink/?LinkId=521839) &nbsp; © 2017 Microsoft"
   ]
  }
 ],
 "metadata": {
  "anaconda-cloud": {},
  "kernelspec": {
   "display_name": "Python [conda env:base] *",
   "language": "python",
   "name": "conda-base-py"
  },
  "language_info": {
   "codemirror_mode": {
    "name": "ipython",
    "version": 3
   },
   "file_extension": ".py",
   "mimetype": "text/x-python",
   "name": "python",
   "nbconvert_exporter": "python",
   "pygments_lexer": "ipython3",
   "version": "3.12.7"
  }
 },
 "nbformat": 4,
 "nbformat_minor": 4
}
