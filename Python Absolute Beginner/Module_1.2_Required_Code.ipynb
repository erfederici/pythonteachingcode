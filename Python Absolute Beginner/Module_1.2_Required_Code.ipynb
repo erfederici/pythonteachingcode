{
 "cells": [
  {
   "attachments": {},
   "cell_type": "markdown",
   "metadata": {
    "collapsed": true,
    "jupyter": {
     "outputs_hidden": true
    }
   },
   "source": [
    "#  Module 1 Required Coding Activity  \n",
    "Work through the Module 1 Tutorials and Practices prior to attempting this activity.\n",
    "Notice that this activity is logically very similar to the Allergy Check activity in the practice module.\n",
    "Remmeber, you are not allowed to work with others on this code or post it in Teams for help.\n",
    "You can ask related questions about the practice module.\n",
    "\n",
    "> **NOTE:** This program requires print output and code syntax used in module 1\n",
    "\n",
    "| Some Assignment Requirements |  \n",
    "|:-------------------------------|  \n",
    "| **NOTE:** This program requires `print` output and using code syntax used in module 1 such as variable assignment, `input`, `in` keyword, `.lower()` or `.upper()` method  |  \n",
    "\n",
    "\n",
    "## Program: Name Check  \n",
    "\n",
    "1. **[ ]** get user **`input`** for names of people met in the last 24 hours  \n",
    " save in a variable called **input_test**  \n",
    "2. **[ ]** print **`True`** if \"John\" is in the **input_test** string  \n",
    "3. **[ ]** Test the code so far  \n",
    "4. **[ ]** repeat the process checking the input for your name, \n",
    "5. **[ ] challenge:** add two more names \n",
    "5. **[ ]** Test your code  \n",
    "6. **[ ] challenge:** make your code work for input regardless of case, e.g. - print **`True`** for \"mary\", \"Mary\", \"MARY\" or \"MaRy\"  \n"
   ]
  },
  {
   "cell_type": "code",
   "execution_count": 41,
   "metadata": {},
   "outputs": [
    {
     "name": "stdin",
     "output_type": "stream",
     "text": [
      "Please enter the names of four people you've met in the last 24 hours: Jimmy, elisabeth, Jamie, ANN\n"
     ]
    },
    {
     "name": "stdout",
     "output_type": "stream",
     "text": [
      "John is present:  False\n",
      "Elisabeth is present:  True\n",
      "James is present:  False\n",
      "Ann is present:  True\n"
     ]
    }
   ],
   "source": [
    "# Create name check code\n",
    "\n",
    "#1 [ ] get input for input_test variable\n",
    "\n",
    "input_test = input(\"Please enter the names of four people you've met in the last 24 hours:\")\n",
    "\n",
    "#2+7 [ ] print \"True\" message if \"John\" is in the input or False message if not\n",
    "\n",
    "print('John is present: ','John'.lower() in input_test.lower())\n",
    "\n",
    "#4+7 [ ] print True message if your name is in the input or False if not\n",
    "\n",
    "print('Elisabeth is present: ','Elisabeth'.lower() in input_test.lower())\n",
    "\n",
    "    \n",
    "#5+7 [ ] Challenge: Check if another person's name is in the input - print message\n",
    "\n",
    "print('James is present: ','James'.lower() in input_test.lower())\n",
    "\n",
    "    \n",
    "#5+7 [ ] Challenge: Check if a fourth person's name is in the input - print message\n",
    "\n",
    "print('Ann is present: ','Ann'.lower() in input_test.lower())\n",
    "\n"
   ]
  },
  {
   "cell_type": "markdown",
   "metadata": {},
   "source": [
    "When finished and tested, copy your code to the clipboard on your computer. Then, create a python file (.py) in Visual Studio Code by selecting New File and saving the file with a .py extension. Then, paste in your code and test it. Finally, save the file and upload it to D2L to submit. Be sure to test that it works. Use this same process for all Required Code Activities."
   ]
  }
 ],
 "metadata": {
  "kernelspec": {
   "display_name": "Python [conda env:base] *",
   "language": "python",
   "name": "conda-base-py"
  },
  "language_info": {
   "codemirror_mode": {
    "name": "ipython",
    "version": 3
   },
   "file_extension": ".py",
   "mimetype": "text/x-python",
   "name": "python",
   "nbconvert_exporter": "python",
   "pygments_lexer": "ipython3",
   "version": "3.12.7"
  }
 },
 "nbformat": 4,
 "nbformat_minor": 4
}
