{
 "cells": [
  {
   "attachments": {},
   "cell_type": "markdown",
   "metadata": {
    "collapsed": true,
    "jupyter": {
     "outputs_hidden": true
    }
   },
   "source": [
    "#  Module 2 Required Coding Activity  \n",
    "\n",
    "| Requirements |  \n",
    "|:-------------------------------|  \n",
    "| **NOTE:** This program requires a **function** be defined, created and called. The call will send values based on user input.  The function call must capture a `return` value that is used in print output.  The function will have parameters and `return` a string and should otherwise use code syntax covered in module 2.  |  \n",
    " \n",
    "## Program: fishstore()\n",
    "create and test fishstore()\n",
    "- **fishstore() takes 2 string arguments: fish & price**\n",
    "- **fishstore returns a string in sentence form**  \n",
    "- **gather input for fish_entry and price_entry to use in calling fishstore()**\n",
    "- **print the return value of fishstore()**\n",
    "- **the final print statement must include your full name**\n",
    "\n",
    ">example of output: **`Report for [YOUR FULL NAME GOES HERE]. Fish Type: Guppy costs $1`**"
   ]
  },
  {
   "cell_type": "code",
   "execution_count": 35,
   "metadata": {},
   "outputs": [
    {
     "name": "stdin",
     "output_type": "stream",
     "text": [
      "enter the type of fish you'd like to buy: Guppy\n",
      "enter how much the fish costs: 1\n"
     ]
    },
    {
     "name": "stdout",
     "output_type": "stream",
     "text": [
      "Report for ELISABETH FEDERICI. Fish Type: Guppy costs $1\n"
     ]
    }
   ],
   "source": [
    "# [ ] create, call and test fishstore() function \n",
    "\n",
    "# defined fishstore() with string arguments: fish & price\n",
    "def fishstore(fish, price):\n",
    "    # returned as a string in sentence form\n",
    "    return('Report for ELISABETH FEDERICI. ' + 'Fish Type: ' + fish + ' costs $' + price)\n",
    "    \n",
    "def fish():   \n",
    "    # user input for fish_entry\n",
    "    fish_entry = input(\"enter the type of fish you'd like to buy:\")\n",
    "    return fish_entry\n",
    "\n",
    "def price():\n",
    "    # user input for price_entry\n",
    "    price_entry = input('enter how much the fish costs:')\n",
    "    return price_entry\n",
    "  \n",
    "\n",
    "#print fishstore() return value\n",
    "print(fishstore(fish(),price()))\n"
   ]
  },
  {
   "cell_type": "markdown",
   "metadata": {},
   "source": [
    "When finished and tested, copy your code to the clipboard on your computer. Then, create a python file (.py) in Visual Studio Code by selecting New File and saving the file with a .py extension. Then, paste in your code and test it. Finally, save the file and upload it to D2L to submit. Be sure to test that it works. Use this same process for all Required Code Activities."
   ]
  }
 ],
 "metadata": {
  "kernelspec": {
   "display_name": "Python [conda env:base] *",
   "language": "python",
   "name": "conda-base-py"
  },
  "language_info": {
   "codemirror_mode": {
    "name": "ipython",
    "version": 3
   },
   "file_extension": ".py",
   "mimetype": "text/x-python",
   "name": "python",
   "nbconvert_exporter": "python",
   "pygments_lexer": "ipython3",
   "version": "3.12.7"
  }
 },
 "nbformat": 4,
 "nbformat_minor": 4
}
